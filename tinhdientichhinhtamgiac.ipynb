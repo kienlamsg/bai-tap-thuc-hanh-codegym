{
 "cells": [
  {
   "cell_type": "code",
   "execution_count": 3,
   "id": "1c2eb824",
   "metadata": {},
   "outputs": [
    {
     "name": "stdout",
     "output_type": "stream",
     "text": [
      "nhap chieu canh a10\n",
      "nhap chieu canh b10\n",
      "nhap chieu canh c10\n",
      "dien tich tam giac la:  43.30127018922193\n"
     ]
    }
   ],
   "source": [
    "import math\n",
    "a = float(input('nhap chieu canh a'))\n",
    "b = float(input('nhap chieu canh b'))\n",
    "c = float(input('nhap chieu canh c'))\n",
    "s = (a+b+c)/2\n",
    "dien_tich = math.sqrt(s*(s-a)*(s-b)*(s-c))\n",
    "print('dien tich tam giac la: ', dien_tich)"
   ]
  }
 ],
 "metadata": {
  "kernelspec": {
   "display_name": "Python 3 (ipykernel)",
   "language": "python",
   "name": "python3"
  },
  "language_info": {
   "codemirror_mode": {
    "name": "ipython",
    "version": 3
   },
   "file_extension": ".py",
   "mimetype": "text/x-python",
   "name": "python",
   "nbconvert_exporter": "python",
   "pygments_lexer": "ipython3",
   "version": "3.10.4"
  }
 },
 "nbformat": 4,
 "nbformat_minor": 5
}
