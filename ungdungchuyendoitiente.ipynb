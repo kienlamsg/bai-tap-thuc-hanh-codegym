{
 "cells": [
  {
   "cell_type": "code",
   "execution_count": 2,
   "id": "75281ff1",
   "metadata": {},
   "outputs": [
    {
     "name": "stdout",
     "output_type": "stream",
     "text": [
      "nhap so luong usd can chuyen doi : 150\n",
      "so tien VND tuong duong :  3450000.0 VND\n"
     ]
    }
   ],
   "source": [
    "import math\n",
    "USD = float(input('nhap so luong usd can chuyen doi : '))\n",
    "VND = USD * 23000\n",
    "print('so tien VND tuong duong : ', VND, 'VND')"
   ]
  }
 ],
 "metadata": {
  "kernelspec": {
   "display_name": "Python 3 (ipykernel)",
   "language": "python",
   "name": "python3"
  },
  "language_info": {
   "codemirror_mode": {
    "name": "ipython",
    "version": 3
   },
   "file_extension": ".py",
   "mimetype": "text/x-python",
   "name": "python",
   "nbconvert_exporter": "python",
   "pygments_lexer": "ipython3",
   "version": "3.10.4"
  }
 },
 "nbformat": 4,
 "nbformat_minor": 5
}
